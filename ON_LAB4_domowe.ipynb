{
  "nbformat": 4,
  "nbformat_minor": 0,
  "metadata": {
    "colab": {
      "name": "ON_LAB4_domowe.ipynb",
      "provenance": [],
      "collapsed_sections": [],
      "include_colab_link": true
    },
    "kernelspec": {
      "name": "python3",
      "display_name": "Python 3"
    },
    "language_info": {
      "name": "python"
    }
  },
  "cells": [
    {
      "cell_type": "markdown",
      "metadata": {
        "id": "view-in-github",
        "colab_type": "text"
      },
      "source": [
        "<a href=\"https://colab.research.google.com/github/KitoPlayer/ON_LAB_3_4_domowe/blob/main/ON_LAB4_domowe.ipynb\" target=\"_parent\"><img src=\"https://colab.research.google.com/assets/colab-badge.svg\" alt=\"Open In Colab\"/></a>"
      ]
    },
    {
      "cell_type": "markdown",
      "source": [
        "# Zadania domowe"
      ],
      "metadata": {
        "id": "8guPCTNIWWWj"
      }
    },
    {
      "cell_type": "code",
      "source": [
        "import numpy as np"
      ],
      "metadata": {
        "id": "9o-PMVBsbhlk"
      },
      "execution_count": null,
      "outputs": []
    },
    {
      "cell_type": "markdown",
      "source": [
        "## Zadanie 1\n",
        "Napisz metodę, która oblicza pole między osią $OX$ a wykresem funkcji na danym przedziale za pomocą sum Riemanna (przybliżeń prostokątami). Sprawdź jej działanie na wybranej przez siebie funkcji porównując z wynikiem całkownia symbolicznego. \n",
        "\n",
        "Korzystając z symbolicznych pochodnych i szukania ekstremów dobierz takie parametry do swojej funkcji, aby błąd całkowania był mniejszy niż $10^{-5}$.\n"
      ],
      "metadata": {
        "id": "GjTceg1Pa0Yq"
      }
    },
    {
      "cell_type": "code",
      "source": [
        ""
      ],
      "metadata": {
        "id": "TSTpE_aga1xO"
      },
      "execution_count": null,
      "outputs": []
    },
    {
      "cell_type": "markdown",
      "source": [
        "## Zadanie 2\n",
        "a) Zaimplementuj w postaci funkcji algorytm obliczania pierwiastka kwadratowego z $x>0$ z wykorzystaniem algorytmu Herona. Funkcja powinna przyjmować jako argumenty liczby: $x$, punkt startowy $x_0$ oraz liczbę kroków (wyrazów ciągu do obliczenia).\n",
        "\n",
        "b) Następnie, dodaj argument `show_step` (domyślnie ustawiony jako `False`), który będzie pozwalał wyświetlać kolejne kroki przybliżenia aż do zadanego.\n",
        "\n",
        "c) Na bazie rozwiązania z punktu a) stwórz nową funkcję, która wykona odpowiednią liczbę kroków by przybliżenie miało podaną dokładność."
      ],
      "metadata": {
        "id": "lifT1qX3a19e"
      }
    },
    {
      "cell_type": "code",
      "source": [
        ""
      ],
      "metadata": {
        "id": "mgHNDaiza6kV"
      },
      "execution_count": null,
      "outputs": []
    },
    {
      "cell_type": "markdown",
      "source": [
        "# NumPy"
      ],
      "metadata": {
        "id": "eXGnYtina6wf"
      }
    },
    {
      "cell_type": "markdown",
      "source": [
        "## Zadanie 3\n",
        "\n",
        "Stwórz dowolną tablicę liczb całkowitych ndarray z zagnieżdżonej listy. Sprawdź jej różne atrybuty. Spróbuj zamienić wszystkie liczby całkowite na zmiennoprzecinkowe."
      ],
      "metadata": {
        "id": "Sqbettf7a_vl"
      }
    },
    {
      "cell_type": "code",
      "source": [
        ""
      ],
      "metadata": {
        "id": "8UzdONHbaet_"
      },
      "execution_count": null,
      "outputs": []
    },
    {
      "cell_type": "markdown",
      "source": [
        "## Zadanie 4\n",
        "Skonstruuj macierz:\n",
        "$$\n",
        "Mat1=\\begin{bmatrix}\n",
        "1 &1 &0&0&0&0&0\\\\\n",
        "1&1&0&0&0&0&0\\\\\n",
        "0&0&0&0&0&0&0 \\\\\n",
        "0&0&0&0&0&0&0 \\\\\n",
        "0&0&0&0&3&0&0 \\\\\n",
        "0&0&0&0&0&2&4 \\\\\n",
        "0&0&0&0&0&4&2 \\\\\n",
        "\\end{bmatrix}\n",
        "$$"
      ],
      "metadata": {
        "id": "z3gAwg2MbN-i"
      }
    },
    {
      "cell_type": "code",
      "source": [
        "Mat1 = np.array([[ 1, 1, 0, 0, 0, 0, 0],\n",
        "           [ 1, 1, 0, 0, 0, 0, 0],\n",
        "           [ 0, 0, 0, 0, 0, 0, 0],\n",
        "           [ 0, 0, 0, 0, 0, 0, 0],\n",
        "           [ 0, 0, 0, 0, 3, 0, 0],\n",
        "           [ 0, 0, 0, 0, 0, 2, 4],\n",
        "           [ 0, 0, 0, 0, 0, 4, 2]])\n",
        "\n",
        "Mat1"
      ],
      "metadata": {
        "colab": {
          "base_uri": "https://localhost:8080/"
        },
        "id": "klGLCAzDT2un",
        "outputId": "75153785-f8d2-4e7f-dc91-c1549c9ece3a"
      },
      "execution_count": null,
      "outputs": [
        {
          "output_type": "execute_result",
          "data": {
            "text/plain": [
              "array([[1, 1, 0, 0, 0, 0, 0],\n",
              "       [1, 1, 0, 0, 0, 0, 0],\n",
              "       [0, 0, 0, 0, 0, 0, 0],\n",
              "       [0, 0, 0, 0, 0, 0, 0],\n",
              "       [0, 0, 0, 0, 3, 0, 0],\n",
              "       [0, 0, 0, 0, 0, 2, 4],\n",
              "       [0, 0, 0, 0, 0, 4, 2]])"
            ]
          },
          "metadata": {},
          "execution_count": 32
        }
      ]
    },
    {
      "cell_type": "markdown",
      "source": [
        "## Zadanie 5\n",
        "W macierzy `Mat1` zamień miejscami lewy górny narożnik $4 \\times 4$ z prawym dolnym $3 \\times 3$ (nazwij wynik `Mat2`).\n",
        "\n",
        "## Zadanie 6\n",
        "Stwórz macierz `Mat3`, która będzie zawierała tylko elementy z `Mat2` o obu parzystych współrzędnych."
      ],
      "metadata": {
        "id": "5nn8LWwabRAh"
      }
    },
    {
      "cell_type": "markdown",
      "source": [
        "###Zadanie 5 :\n"
      ],
      "metadata": {
        "id": "-rS2RRRJdSNU"
      }
    },
    {
      "cell_type": "code",
      "source": [
        "\n",
        "\n",
        "Mat2 = np.array([[ 1, 1, 0, 0, 0, 0, 0],\n",
        "           [ 1, 1, 0, 0, 0, 0, 0],\n",
        "           [ 0, 0, 0, 0, 0, 0, 0],\n",
        "           [ 0, 0, 0, 0, 0, 0, 0],\n",
        "           [ 0, 0, 0, 0, 3, 0, 0],\n",
        "           [ 0, 0, 0, 0, 0, 2, 4],\n",
        "           [ 0, 0, 0, 0, 0, 4, 2]])\n",
        "\n",
        "Mat2"
      ],
      "metadata": {
        "id": "4LmdDKFRak79",
        "colab": {
          "base_uri": "https://localhost:8080/"
        },
        "outputId": "338a278e-bc92-43bf-c799-2541564e6eb8"
      },
      "execution_count": null,
      "outputs": [
        {
          "output_type": "execute_result",
          "data": {
            "text/plain": [
              "array([[1, 1, 0, 0, 0, 0, 0],\n",
              "       [1, 1, 0, 0, 0, 0, 0],\n",
              "       [0, 0, 0, 0, 0, 0, 0],\n",
              "       [0, 0, 0, 0, 0, 0, 0],\n",
              "       [0, 0, 0, 0, 3, 0, 0],\n",
              "       [0, 0, 0, 0, 0, 2, 4],\n",
              "       [0, 0, 0, 0, 0, 4, 2]])"
            ]
          },
          "metadata": {},
          "execution_count": 29
        }
      ]
    },
    {
      "cell_type": "code",
      "source": [
        "Mat2[0:3, 0:3] = Mat1[4:7, 4:7]\n",
        "\n",
        "Mat2"
      ],
      "metadata": {
        "colab": {
          "base_uri": "https://localhost:8080/"
        },
        "id": "I7U7rxF4btBs",
        "outputId": "bd01d40e-8f98-48b4-8d4f-d443742bf737"
      },
      "execution_count": null,
      "outputs": [
        {
          "output_type": "execute_result",
          "data": {
            "text/plain": [
              "array([[3, 0, 0, 0, 0, 0, 0],\n",
              "       [0, 2, 4, 0, 0, 0, 0],\n",
              "       [0, 4, 2, 0, 0, 0, 0],\n",
              "       [0, 0, 0, 0, 0, 0, 0],\n",
              "       [0, 0, 0, 0, 3, 0, 0],\n",
              "       [0, 0, 0, 0, 0, 2, 4],\n",
              "       [0, 0, 0, 0, 0, 4, 2]])"
            ]
          },
          "metadata": {},
          "execution_count": 30
        }
      ]
    },
    {
      "cell_type": "code",
      "source": [
        "Mat2[4:7, 4:7] = Mat1[0:3, 0:3]\n",
        "\n"
      ],
      "metadata": {
        "id": "BRjWycE9cESF"
      },
      "execution_count": null,
      "outputs": []
    },
    {
      "cell_type": "code",
      "source": [
        "\n",
        "print(Mat2)\n",
        "print(Mat1)\n"
      ],
      "metadata": {
        "colab": {
          "base_uri": "https://localhost:8080/"
        },
        "id": "w7sdTpW2cdrP",
        "outputId": "64a0ca14-5995-4115-fb7e-21ef8d260632"
      },
      "execution_count": null,
      "outputs": [
        {
          "output_type": "stream",
          "name": "stdout",
          "text": [
            "[[3 0 0 0 0 0 0]\n",
            " [0 2 4 0 0 0 0]\n",
            " [0 4 2 0 0 0 0]\n",
            " [0 0 0 0 0 0 0]\n",
            " [0 0 0 0 1 1 0]\n",
            " [0 0 0 0 1 1 0]\n",
            " [0 0 0 0 0 0 0]]\n",
            "[[1 1 0 0 0 0 0]\n",
            " [1 1 0 0 0 0 0]\n",
            " [0 0 0 0 0 0 0]\n",
            " [0 0 0 0 0 0 0]\n",
            " [0 0 0 0 3 0 0]\n",
            " [0 0 0 0 0 2 4]\n",
            " [0 0 0 0 0 4 2]]\n"
          ]
        }
      ]
    },
    {
      "cell_type": "markdown",
      "source": [
        "###Zadanie 6 :"
      ],
      "metadata": {
        "id": "jUPTTHaDdgBK"
      }
    },
    {
      "cell_type": "code",
      "source": [
        "Mat3 = Mat2[1::2, 1::2]\n",
        "Mat3"
      ],
      "metadata": {
        "colab": {
          "base_uri": "https://localhost:8080/"
        },
        "id": "08cBz7aadrFW",
        "outputId": "38390dd2-8aaf-4ba3-96f7-68ab06b74430"
      },
      "execution_count": null,
      "outputs": [
        {
          "output_type": "execute_result",
          "data": {
            "text/plain": [
              "array([[2, 0, 0],\n",
              "       [0, 0, 0],\n",
              "       [0, 0, 1]])"
            ]
          },
          "metadata": {},
          "execution_count": 55
        }
      ]
    },
    {
      "cell_type": "markdown",
      "source": [
        "## Zadanie 7\n",
        "Utwórz tablicę\n",
        "\n",
        "$$\n",
        "\\begin{bmatrix}\n",
        "1&2&3&4\\\\\n",
        "5&6&7&8 \\\\\n",
        "9&10&11&12\\\\\n",
        "13&14&15&16\n",
        "\\end{bmatrix}\n",
        "$$"
      ],
      "metadata": {
        "id": "Vy58FY1cbTx6"
      }
    },
    {
      "cell_type": "code",
      "source": [
        "lista_1 = [1, 2, 3, 4]\n",
        "lista_2 = [5, 6, 7, 8]\n",
        "lista_3 = [9, 10, 11, 12]\n",
        "lista_4 = [13, 14, 15, 16]\n",
        "\n",
        "tablica = [lista_1, lista_2, lista_3, lista_4]\n",
        "\n",
        "for i in tablica:\n",
        "  print(i)"
      ],
      "metadata": {
        "id": "AVlB7UNobXwX",
        "colab": {
          "base_uri": "https://localhost:8080/"
        },
        "outputId": "6dbb6a59-8317-4d93-ecec-a512ce4d21e2"
      },
      "execution_count": null,
      "outputs": [
        {
          "output_type": "stream",
          "name": "stdout",
          "text": [
            "[1, 2, 3, 4]\n",
            "[5, 6, 7, 8]\n",
            "[9, 10, 11, 12]\n",
            "[13, 14, 15, 16]\n"
          ]
        }
      ]
    }
  ]
}