{
  "nbformat": 4,
  "nbformat_minor": 0,
  "metadata": {
    "colab": {
      "name": "ON_LAB3_domowe.ipynb",
      "provenance": [],
      "collapsed_sections": [],
      "include_colab_link": true
    },
    "kernelspec": {
      "name": "python3",
      "display_name": "Python 3"
    },
    "language_info": {
      "name": "python"
    }
  },
  "cells": [
    {
      "cell_type": "markdown",
      "metadata": {
        "id": "view-in-github",
        "colab_type": "text"
      },
      "source": [
        "<a href=\"https://colab.research.google.com/github/KitoPlayer/ON_LAB_3_4_domowe/blob/main/ON_LAB3_domowe.ipynb\" target=\"_parent\"><img src=\"https://colab.research.google.com/assets/colab-badge.svg\" alt=\"Open In Colab\"/></a>"
      ]
    },
    {
      "cell_type": "markdown",
      "source": [
        "## Zadanie 1\n",
        "Dany jest słownik `student={'imie':'Jan', 'nazwisko':'kowalski','wiek':25, 'wzrost':188, 'waga':80, 'miasto':'Toruń'}`.\n",
        "\n",
        "* Wypisz jego elementy w postaci \"klucz -> wartość\".\n",
        "* Zmień 'wzrost' na 182.\n",
        "* Dodaj klucz 'wynik matury' z dowolną wartością.\n",
        "* Usuń klucz (i wartość) 'miasto'."
      ],
      "metadata": {
        "id": "VRVE0JVybqgv"
      }
    },
    {
      "cell_type": "code",
      "source": [
        "student={'imie':'Jan', 'nazwisko':'kowalski','wiek':25, 'wzrost':188, 'waga':80, 'miasto':'Toruń'}"
      ],
      "metadata": {
        "id": "L2nHz72XbnSi"
      },
      "execution_count": null,
      "outputs": []
    },
    {
      "cell_type": "code",
      "source": [
        "for i in student.items():\n",
        "    print (i[0], '->',i[1])"
      ],
      "metadata": {
        "id": "-hMsykpme2uE",
        "colab": {
          "base_uri": "https://localhost:8080/"
        },
        "outputId": "606f96c8-88c7-49e7-865d-1509257b8ea7"
      },
      "execution_count": null,
      "outputs": [
        {
          "output_type": "stream",
          "name": "stdout",
          "text": [
            "imie -> Jan\n",
            "nazwisko -> kowalski\n",
            "wiek -> 25\n",
            "wzrost -> 188\n",
            "waga -> 80\n",
            "miasto -> Toruń\n"
          ]
        }
      ]
    },
    {
      "cell_type": "code",
      "source": [
        "student['wzrost'] = 182\n",
        "\n",
        "print(student)"
      ],
      "metadata": {
        "colab": {
          "base_uri": "https://localhost:8080/"
        },
        "id": "X9IAGklid3eO",
        "outputId": "18ff71b9-474c-40dc-944e-fc4152ad188f"
      },
      "execution_count": null,
      "outputs": [
        {
          "output_type": "stream",
          "name": "stdout",
          "text": [
            "{'imie': 'Jan', 'nazwisko': 'kowalski', 'wiek': 25, 'wzrost': 182, 'waga': 80, 'miasto': 'Toruń'}\n"
          ]
        }
      ]
    },
    {
      "cell_type": "code",
      "source": [
        "student['wynik matury'] = 90\n",
        "print(student)"
      ],
      "metadata": {
        "colab": {
          "base_uri": "https://localhost:8080/"
        },
        "id": "rn7lrYuheCG6",
        "outputId": "43703fc3-c7a2-4271-86ce-9b28ef1eb253"
      },
      "execution_count": null,
      "outputs": [
        {
          "output_type": "stream",
          "name": "stdout",
          "text": [
            "{'imie': 'Jan', 'nazwisko': 'kowalski', 'wiek': 25, 'wzrost': 182, 'waga': 80, 'miasto': 'Toruń', 'wynik matury': 90}\n"
          ]
        }
      ]
    },
    {
      "cell_type": "code",
      "source": [
        "del student['miasto']\n",
        "print(student)"
      ],
      "metadata": {
        "colab": {
          "base_uri": "https://localhost:8080/"
        },
        "id": "A_EETxWQeIWE",
        "outputId": "dd46a8cb-7ab5-40f7-e683-d98bd4738a8d"
      },
      "execution_count": null,
      "outputs": [
        {
          "output_type": "stream",
          "name": "stdout",
          "text": [
            "{'imie': 'Jan', 'nazwisko': 'kowalski', 'wiek': 25, 'wzrost': 182, 'waga': 80, 'wynik matury': 90}\n"
          ]
        }
      ]
    },
    {
      "cell_type": "markdown",
      "source": [
        "####Zadanie 2\n",
        "Dane są dwie listy równej długości\n",
        "\n",
        "```python\n",
        "klucze = ['klucz1', 'klucz2', 'inny klucz', 'test']\n",
        "wartosci = [1,2,5,1]\n",
        "```\n",
        "\n",
        "Utwórz w sposób zautomatyzowany (nie ręcznie) słownik, który kolejnym kluczom przypisze kolejne wartości."
      ],
      "metadata": {
        "id": "Mbs9JRESe3aH"
      }
    },
    {
      "cell_type": "code",
      "source": [
        "klucze=['klucz1','klucz2','innyklucz','test']\n",
        "wartosci=[1,2,5,1]\n",
        "\n",
        "slownik = dict(zip(klucze, wartosci))\n",
        "\n",
        "print(slownik)"
      ],
      "metadata": {
        "id": "O4xF7O3LbAMM",
        "colab": {
          "base_uri": "https://localhost:8080/"
        },
        "outputId": "508e395b-732e-411a-8e53-d4199f533a31"
      },
      "execution_count": null,
      "outputs": [
        {
          "output_type": "stream",
          "name": "stdout",
          "text": [
            "{'klucz1': 1, 'klucz2': 2, 'innyklucz': 5, 'test': 1}\n"
          ]
        }
      ]
    },
    {
      "cell_type": "markdown",
      "source": [
        "#### Zadanie 3\n",
        "Napisz funkcję obliczającą $n$-ty wyraz ciągu zadanego rekurencyjnie\n",
        "1. $a_0=1$, $a_{k+1}=2a_k$ dla $k\\geq 0$\n",
        "2. $b_0=0$, $b_1=1$, $b_{k+2}=b_{k+1}+b_k$ dla $k\\geq 0$"
      ],
      "metadata": {
        "id": "OlFwnSJrgbDt"
      }
    },
    {
      "cell_type": "code",
      "source": [
        "def ciag1(n):\n",
        "    a0 = 1 \n",
        "\n",
        "    for i in range(n):\n",
        "        a0 *= 2 \n",
        "\n",
        "    return a0\n",
        "\n",
        "print(ciag1(5))\n",
        "\n",
        "print(ciag1(6))"
      ],
      "metadata": {
        "id": "7PeQiFx1iQ56",
        "colab": {
          "base_uri": "https://localhost:8080/"
        },
        "outputId": "62d2cbac-10e8-4590-8181-baa59d848df5"
      },
      "execution_count": null,
      "outputs": [
        {
          "output_type": "stream",
          "name": "stdout",
          "text": [
            "32\n",
            "64\n"
          ]
        }
      ]
    },
    {
      "cell_type": "code",
      "source": [
        "def ciag2(n):\n",
        "    b0, b1 = 0, 1 \n",
        "\n",
        "    if n == 0:\n",
        "        return b0\n",
        "\n",
        "    for i in range(1, n):\n",
        "        b1, b0 = b1 + b0, b1 \n",
        "\n",
        "    return b1\n",
        "\n",
        "print(ciag2(2))\n",
        "print(ciag2(3))"
      ],
      "metadata": {
        "colab": {
          "base_uri": "https://localhost:8080/"
        },
        "id": "t5nMMPuWekBl",
        "outputId": "aff91a8f-9ab2-471c-c9d7-cdd263331141"
      },
      "execution_count": null,
      "outputs": [
        {
          "output_type": "stream",
          "name": "stdout",
          "text": [
            "1\n",
            "2\n"
          ]
        }
      ]
    },
    {
      "cell_type": "markdown",
      "source": [
        "# Sympy"
      ],
      "metadata": {
        "id": "QZv9ajMpiWNO"
      }
    },
    {
      "cell_type": "code",
      "source": [
        "import sympy as sym"
      ],
      "metadata": {
        "id": "2xM5UL7UiXR6"
      },
      "execution_count": null,
      "outputs": []
    },
    {
      "cell_type": "markdown",
      "source": [
        "#### Zadanie 4\n",
        "Napisz funkcję `pochodna(funkcja,punkt)`, która oblicza z definicji pochodną danej funkcji w punkcie. Korzystając ze swojej funkcji oblicz:\n",
        "\n",
        "* pochodną funkcji $e^{x^2}$ w punkcie $1$,\n",
        "* pochodną funkcji $x \\cdot \\ln\\left(\\sqrt(x) \\right)$ w punkcie $1$.\n",
        "\n",
        "Porównaj wyniki do tych uzyskanych za pomocą metody `diff`."
      ],
      "metadata": {
        "id": "2bye7ZPXn3tW"
      }
    },
    {
      "cell_type": "code",
      "source": [
        "import numpy as np \n",
        "from math import *\n",
        "\n",
        "\n",
        "def f(x):\n",
        "  return exp(x**2)\n",
        "\n",
        "def g(x):\n",
        "  return x*log(sqrt(x))\n",
        "\n",
        "def pochodna (v,i):\n",
        "  h=0.1\n",
        "  return (v(i+h)-v(i))/h\n",
        "\n",
        "\n",
        "print(pochodna(f,1))\n",
        "print(pochodna(g,1))\n",
        "\n",
        "\n",
        "\n"
      ],
      "metadata": {
        "colab": {
          "base_uri": "https://localhost:8080/"
        },
        "id": "0lpj0Be9r3FK",
        "outputId": "6e2674b4-8fb1-42aa-fb57-b62f15bfe8f0"
      },
      "execution_count": null,
      "outputs": [
        {
          "output_type": "stream",
          "name": "stdout",
          "text": [
            "6.352028240899794\n",
            "0.5242059889237877\n"
          ]
        }
      ]
    },
    {
      "cell_type": "code",
      "source": [
        "from sympy import *\n",
        "\n",
        "x=Symbol('x')\n",
        "f = exp(x**2)\n",
        "g = x*log(sqrt(x))\n",
        "f_prime = f.diff(x)\n",
        "f = lambdify(x,f)\n",
        "g = lambdify(x,g)\n",
        "p = 1\n",
        "print(f(p))\n",
        "print(g(p))\n",
        "\n"
      ],
      "metadata": {
        "colab": {
          "base_uri": "https://localhost:8080/"
        },
        "id": "jmJSyR7h4fz4",
        "outputId": "5cf974ee-6920-4317-f48d-2796401223bb"
      },
      "execution_count": null,
      "outputs": [
        {
          "output_type": "stream",
          "name": "stdout",
          "text": [
            "2.718281828459045\n",
            "0.0\n"
          ]
        }
      ]
    },
    {
      "cell_type": "markdown",
      "source": [
        "## Zadanie 5\n",
        "a) Napisz funkcję obliczającą wartość wielomianu interpolacyjnego Lagrange'a w zadanym punkcie. Funkcja powinna przyjmować następujące argumenty:\n",
        "\n",
        "* $X$ - tablicę wartości $x_i$,\n",
        "* $Y$ - tablicę wartości $y_i$,\n",
        "* $x$ - punkt, w którym liczymy wartość wielomianu.\n",
        "\n",
        "b) Dodaj opcjonalny argument do powyższej funkcji, który pozwoli wyświetlić wzór interpolacyjny Lagrange'a w postaci symbolicznej.\n",
        "\n",
        "c) Sporządź wykres otrzymanego wielomianu na podstawie symbolicznego wzoru z punktu b).\n",
        "\n",
        "d) Wybierz dwie funkcje: wielomian stopnia 5 i inną funkcję niebędącą wielomianem. Sporządź ich aproksymacje za pomocą 4 wybranych punktów. Porównaj wykresy oryginalnych funkcji i ich przybliżeń. Sformułuj wnioski."
      ],
      "metadata": {
        "id": "FVOv4f_YtYXL"
      }
    },
    {
      "cell_type": "code",
      "source": [
        "def interp_L(X,Y,x):\n",
        "  n=len(x)\n",
        "  wart=0\n",
        "  temp=1\n",
        "  for i in range (n+1):\n",
        "    for j in range(n+1):\n",
        "      if i!=j:\n",
        "        temp *=(x-X[j])/(X[i]-X[j])\n",
        "        wart +=Y[i]*temp\n",
        "  return wart\n",
        "\n",
        "A=[0,1]\n",
        "B=[0,1]\n",
        "print(interp_L(A,B,2))"
      ],
      "metadata": {
        "id": "-XcvdaKHtXtk",
        "colab": {
          "base_uri": "https://localhost:8080/",
          "height": 338
        },
        "outputId": "c601f3a6-1b38-4f2a-c7ee-2338ccf12855"
      },
      "execution_count": 1,
      "outputs": [
        {
          "output_type": "error",
          "ename": "TypeError",
          "evalue": "ignored",
          "traceback": [
            "\u001b[0;31m---------------------------------------------------------------------------\u001b[0m",
            "\u001b[0;31mTypeError\u001b[0m                                 Traceback (most recent call last)",
            "\u001b[0;32m<ipython-input-1-bc2001497cab>\u001b[0m in \u001b[0;36m<module>\u001b[0;34m()\u001b[0m\n\u001b[1;32m     12\u001b[0m \u001b[0mA\u001b[0m\u001b[0;34m=\u001b[0m\u001b[0;34m[\u001b[0m\u001b[0;36m0\u001b[0m\u001b[0;34m,\u001b[0m\u001b[0;36m1\u001b[0m\u001b[0;34m]\u001b[0m\u001b[0;34m\u001b[0m\u001b[0;34m\u001b[0m\u001b[0m\n\u001b[1;32m     13\u001b[0m \u001b[0mB\u001b[0m\u001b[0;34m=\u001b[0m\u001b[0;34m[\u001b[0m\u001b[0;36m0\u001b[0m\u001b[0;34m,\u001b[0m\u001b[0;36m1\u001b[0m\u001b[0;34m]\u001b[0m\u001b[0;34m\u001b[0m\u001b[0;34m\u001b[0m\u001b[0m\n\u001b[0;32m---> 14\u001b[0;31m \u001b[0mprint\u001b[0m\u001b[0;34m(\u001b[0m\u001b[0minterp_L\u001b[0m\u001b[0;34m(\u001b[0m\u001b[0mA\u001b[0m\u001b[0;34m,\u001b[0m\u001b[0mB\u001b[0m\u001b[0;34m,\u001b[0m\u001b[0;36m2\u001b[0m\u001b[0;34m)\u001b[0m\u001b[0;34m)\u001b[0m\u001b[0;34m\u001b[0m\u001b[0;34m\u001b[0m\u001b[0m\n\u001b[0m",
            "\u001b[0;32m<ipython-input-1-bc2001497cab>\u001b[0m in \u001b[0;36minterp_L\u001b[0;34m(X, Y, x)\u001b[0m\n\u001b[1;32m      1\u001b[0m \u001b[0;32mdef\u001b[0m \u001b[0minterp_L\u001b[0m\u001b[0;34m(\u001b[0m\u001b[0mX\u001b[0m\u001b[0;34m,\u001b[0m\u001b[0mY\u001b[0m\u001b[0;34m,\u001b[0m\u001b[0mx\u001b[0m\u001b[0;34m)\u001b[0m\u001b[0;34m:\u001b[0m\u001b[0;34m\u001b[0m\u001b[0;34m\u001b[0m\u001b[0m\n\u001b[0;32m----> 2\u001b[0;31m   \u001b[0mn\u001b[0m\u001b[0;34m=\u001b[0m\u001b[0mlen\u001b[0m\u001b[0;34m(\u001b[0m\u001b[0mx\u001b[0m\u001b[0;34m)\u001b[0m\u001b[0;34m\u001b[0m\u001b[0;34m\u001b[0m\u001b[0m\n\u001b[0m\u001b[1;32m      3\u001b[0m   \u001b[0mwart\u001b[0m\u001b[0;34m=\u001b[0m\u001b[0;36m0\u001b[0m\u001b[0;34m\u001b[0m\u001b[0;34m\u001b[0m\u001b[0m\n\u001b[1;32m      4\u001b[0m   \u001b[0mtemp\u001b[0m\u001b[0;34m=\u001b[0m\u001b[0;36m1\u001b[0m\u001b[0;34m\u001b[0m\u001b[0;34m\u001b[0m\u001b[0m\n\u001b[1;32m      5\u001b[0m   \u001b[0;32mfor\u001b[0m \u001b[0mi\u001b[0m \u001b[0;32min\u001b[0m \u001b[0mrange\u001b[0m \u001b[0;34m(\u001b[0m\u001b[0mn\u001b[0m\u001b[0;34m+\u001b[0m\u001b[0;36m1\u001b[0m\u001b[0;34m)\u001b[0m\u001b[0;34m:\u001b[0m\u001b[0;34m\u001b[0m\u001b[0;34m\u001b[0m\u001b[0m\n",
            "\u001b[0;31mTypeError\u001b[0m: object of type 'int' has no len()"
          ]
        }
      ]
    }
  ]
}