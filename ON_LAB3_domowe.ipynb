{
  "nbformat": 4,
  "nbformat_minor": 0,
  "metadata": {
    "colab": {
      "name": "ON_LAB3_domowe.ipynb",
      "provenance": [],
      "collapsed_sections": [],
      "include_colab_link": true
    },
    "kernelspec": {
      "name": "python3",
      "display_name": "Python 3"
    },
    "language_info": {
      "name": "python"
    }
  },
  "cells": [
    {
      "cell_type": "markdown",
      "metadata": {
        "id": "view-in-github",
        "colab_type": "text"
      },
      "source": [
        "<a href=\"https://colab.research.google.com/github/KitoPlayer/ON_LAB4_domowe/blob/main/ON_LAB3_domowe.ipynb\" target=\"_parent\"><img src=\"https://colab.research.google.com/assets/colab-badge.svg\" alt=\"Open In Colab\"/></a>"
      ]
    },
    {
      "cell_type": "markdown",
      "source": [
        "## Zadanie 1\n",
        "Dany jest słownik `student={'imie':'Jan', 'nazwisko':'kowalski','wiek':25, 'wzrost':188, 'waga':80, 'miasto':'Toruń'}`.\n",
        "\n",
        "* Wypisz jego elementy w postaci \"klucz -> wartość\".\n",
        "* Zmień 'wzrost' na 182.\n",
        "* Dodaj klucz 'wynik matury' z dowolną wartością.\n",
        "* Usuń klucz (i wartość) 'miasto'."
      ],
      "metadata": {
        "id": "VRVE0JVybqgv"
      }
    },
    {
      "cell_type": "code",
      "source": [
        "student={'imie':'Jan', 'nazwisko':'kowalski','wiek':25, 'wzrost':188, 'waga':80, 'miasto':'Toruń'}"
      ],
      "metadata": {
        "id": "L2nHz72XbnSi"
      },
      "execution_count": null,
      "outputs": []
    },
    {
      "cell_type": "code",
      "source": [
        "for i in student.items():\n",
        "    print (i[0], '->',i[1])"
      ],
      "metadata": {
        "id": "-hMsykpme2uE",
        "colab": {
          "base_uri": "https://localhost:8080/"
        },
        "outputId": "606f96c8-88c7-49e7-865d-1509257b8ea7"
      },
      "execution_count": null,
      "outputs": [
        {
          "output_type": "stream",
          "name": "stdout",
          "text": [
            "imie -> Jan\n",
            "nazwisko -> kowalski\n",
            "wiek -> 25\n",
            "wzrost -> 188\n",
            "waga -> 80\n",
            "miasto -> Toruń\n"
          ]
        }
      ]
    },
    {
      "cell_type": "code",
      "source": [
        "student['wzrost'] = 182\n",
        "\n",
        "print(student)"
      ],
      "metadata": {
        "colab": {
          "base_uri": "https://localhost:8080/"
        },
        "id": "X9IAGklid3eO",
        "outputId": "18ff71b9-474c-40dc-944e-fc4152ad188f"
      },
      "execution_count": null,
      "outputs": [
        {
          "output_type": "stream",
          "name": "stdout",
          "text": [
            "{'imie': 'Jan', 'nazwisko': 'kowalski', 'wiek': 25, 'wzrost': 182, 'waga': 80, 'miasto': 'Toruń'}\n"
          ]
        }
      ]
    },
    {
      "cell_type": "code",
      "source": [
        "student['wynik matury'] = 90\n",
        "print(student)"
      ],
      "metadata": {
        "colab": {
          "base_uri": "https://localhost:8080/"
        },
        "id": "rn7lrYuheCG6",
        "outputId": "43703fc3-c7a2-4271-86ce-9b28ef1eb253"
      },
      "execution_count": null,
      "outputs": [
        {
          "output_type": "stream",
          "name": "stdout",
          "text": [
            "{'imie': 'Jan', 'nazwisko': 'kowalski', 'wiek': 25, 'wzrost': 182, 'waga': 80, 'miasto': 'Toruń', 'wynik matury': 90}\n"
          ]
        }
      ]
    },
    {
      "cell_type": "code",
      "source": [
        "del student['miasto']\n",
        "print(student)"
      ],
      "metadata": {
        "colab": {
          "base_uri": "https://localhost:8080/"
        },
        "id": "A_EETxWQeIWE",
        "outputId": "dd46a8cb-7ab5-40f7-e683-d98bd4738a8d"
      },
      "execution_count": null,
      "outputs": [
        {
          "output_type": "stream",
          "name": "stdout",
          "text": [
            "{'imie': 'Jan', 'nazwisko': 'kowalski', 'wiek': 25, 'wzrost': 182, 'waga': 80, 'wynik matury': 90}\n"
          ]
        }
      ]
    },
    {
      "cell_type": "markdown",
      "source": [
        "####Zadanie 2\n",
        "Dane są dwie listy równej długości\n",
        "\n",
        "```python\n",
        "klucze = ['klucz1', 'klucz2', 'inny klucz', 'test']\n",
        "wartosci = [1,2,5,1]\n",
        "```\n",
        "\n",
        "Utwórz w sposób zautomatyzowany (nie ręcznie) słownik, który kolejnym kluczom przypisze kolejne wartości."
      ],
      "metadata": {
        "id": "Mbs9JRESe3aH"
      }
    },
    {
      "cell_type": "code",
      "source": [
        "klucze=['klucz1','klucz2','innyklucz','test']\n",
        "wartosci=[1,2,5,1]\n",
        "\n",
        "slownik = dict(zip(klucze, wartosci))\n",
        "\n",
        "print(slownik)"
      ],
      "metadata": {
        "id": "O4xF7O3LbAMM",
        "colab": {
          "base_uri": "https://localhost:8080/"
        },
        "outputId": "508e395b-732e-411a-8e53-d4199f533a31"
      },
      "execution_count": null,
      "outputs": [
        {
          "output_type": "stream",
          "name": "stdout",
          "text": [
            "{'klucz1': 1, 'klucz2': 2, 'innyklucz': 5, 'test': 1}\n"
          ]
        }
      ]
    },
    {
      "cell_type": "markdown",
      "source": [
        "#### Zadanie 3\n",
        "Napisz funkcję obliczającą $n$-ty wyraz ciągu zadanego rekurencyjnie\n",
        "1. $a_0=1$, $a_{k+1}=2a_k$ dla $k\\geq 0$\n",
        "2. $b_0=0$, $b_1=1$, $b_{k+2}=b_{k+1}+b_k$ dla $k\\geq 0$"
      ],
      "metadata": {
        "id": "OlFwnSJrgbDt"
      }
    },
    {
      "cell_type": "code",
      "source": [
        "def ciag1(n):\n",
        "    a0 = 1 \n",
        "\n",
        "    for i in range(n):\n",
        "        a0 *= 2 \n",
        "\n",
        "    return a0\n",
        "\n",
        "print(ciag1(5))\n",
        "\n",
        "print(ciag1(6))"
      ],
      "metadata": {
        "id": "7PeQiFx1iQ56",
        "colab": {
          "base_uri": "https://localhost:8080/"
        },
        "outputId": "62d2cbac-10e8-4590-8181-baa59d848df5"
      },
      "execution_count": null,
      "outputs": [
        {
          "output_type": "stream",
          "name": "stdout",
          "text": [
            "32\n",
            "64\n"
          ]
        }
      ]
    },
    {
      "cell_type": "code",
      "source": [
        "def ciag2(n):\n",
        "    b0, b1 = 0, 1 \n",
        "\n",
        "    if n == 0:\n",
        "        return b0\n",
        "\n",
        "    for i in range(1, n):\n",
        "        b1, b0 = b1 + b0, b1 \n",
        "\n",
        "    return b1\n",
        "\n",
        "print(ciag2(2))\n",
        "print(ciag2(3))"
      ],
      "metadata": {
        "colab": {
          "base_uri": "https://localhost:8080/"
        },
        "id": "t5nMMPuWekBl",
        "outputId": "aff91a8f-9ab2-471c-c9d7-cdd263331141"
      },
      "execution_count": null,
      "outputs": [
        {
          "output_type": "stream",
          "name": "stdout",
          "text": [
            "1\n",
            "2\n"
          ]
        }
      ]
    },
    {
      "cell_type": "markdown",
      "source": [
        "# Sympy"
      ],
      "metadata": {
        "id": "QZv9ajMpiWNO"
      }
    },
    {
      "cell_type": "code",
      "source": [
        "import sympy as sym"
      ],
      "metadata": {
        "id": "2xM5UL7UiXR6"
      },
      "execution_count": null,
      "outputs": []
    },
    {
      "cell_type": "markdown",
      "source": [
        "#### Zadanie 4\n",
        "Napisz funkcję `pochodna(funkcja,punkt)`, która oblicza z definicji pochodną danej funkcji w punkcie. Korzystając ze swojej funkcji oblicz:\n",
        "\n",
        "* pochodną funkcji $e^{x^2}$ w punkcie $1$,\n",
        "* pochodną funkcji $x \\cdot \\ln\\left(\\sqrt(x) \\right)$ w punkcie $1$.\n",
        "\n",
        "Porównaj wyniki do tych uzyskanych za pomocą metody `diff`."
      ],
      "metadata": {
        "id": "2bye7ZPXn3tW"
      }
    },
    {
      "cell_type": "code",
      "source": [
        "x=symbol('x')\n",
        "\n"
      ],
      "metadata": {
        "id": "hCr2fTUGoWB-"
      },
      "execution_count": null,
      "outputs": []
    },
    {
      "cell_type": "markdown",
      "source": [
        "## Zadanie 5\n",
        "a) Napisz funkcję obliczającą wartość wielomianu interpolacyjnego Lagrange'a w zadanym punkcie. Funkcja powinna przyjmować następujące argumenty:\n",
        "\n",
        "* $X$ - tablicę wartości $x_i$,\n",
        "* $Y$ - tablicę wartości $y_i$,\n",
        "* $x$ - punkt, w którym liczymy wartość wielomianu.\n",
        "\n",
        "b) Dodaj opcjonalny argument do powyższej funkcji, który pozwoli wyświetlić wzór interpolacyjny Lagrange'a w postaci symbolicznej.\n",
        "\n",
        "c) Sporządź wykres otrzymanego wielomianu na podstawie symbolicznego wzoru z punktu b).\n",
        "\n",
        "d) Wybierz dwie funkcje: wielomian stopnia 5 i inną funkcję niebędącą wielomianem. Sporządź ich aproksymacje za pomocą 4 wybranych punktów. Porównaj wykresy oryginalnych funkcji i ich przybliżeń. Sformułuj wnioski."
      ],
      "metadata": {
        "id": "FVOv4f_YtYXL"
      }
    },
    {
      "cell_type": "code",
      "source": [
        ""
      ],
      "metadata": {
        "id": "-XcvdaKHtXtk"
      },
      "execution_count": null,
      "outputs": []
    }
  ]
}